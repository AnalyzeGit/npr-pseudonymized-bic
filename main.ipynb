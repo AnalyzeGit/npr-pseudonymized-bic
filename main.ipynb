{
 "cells": [
  {
   "cell_type": "code",
   "execution_count": 1,
   "id": "b0c8dedc-45ce-4900-bf2a-031d618be39c",
   "metadata": {},
   "outputs": [],
   "source": [
    "import pandas as pd\n",
    "from src.utils.path_config import RAW_DATA_DIR, PROCESSED_DATA_DIR, DATA_DIR\n",
    "from src.data_pipeline import(\n",
    "        data_loader, \n",
    "        data_prep, \n",
    "        reporting\n",
    ")"
   ]
  },
  {
   "cell_type": "code",
   "execution_count": 2,
   "id": "c07ca5d6-8b32-4272-bdf5-e05cad12c501",
   "metadata": {},
   "outputs": [],
   "source": [
    "# 데이터 로드\n",
    "loader = data_loader.DataLoader(\n",
    "    RAW_DATA_DIR / 'dongnae.csv',\n",
    "    RAW_DATA_DIR / 'parking_status.csv'\n",
    ")\n",
    "dongnae, parking_status = loader( )"
   ]
  },
  {
   "cell_type": "code",
   "execution_count": 3,
   "id": "60c94cf1-6883-46e3-a0ff-b61e21418ae6",
   "metadata": {},
   "outputs": [
    {
     "name": "stderr",
     "output_type": "stream",
     "text": [
      "/home/junhyung/npr/src/data_pipeline/data_prep.py:285: FutureWarning: 'H' is deprecated and will be removed in a future version, please use 'h' instead.\n",
      "  return ts.floor('H') + pd.Timedelta(hours=1)\n"
     ]
    }
   ],
   "source": [
    "prep = data_prep.PreProcessing(\n",
    "                dongnae = dongnae,\n",
    "                parking_info = parking_status, \n",
    "                lot_name = '동래역',\n",
    "                exit_first_when_same_time = True,\n",
    "                ensure_all_hours = True\n",
    "                            )\n",
    "result = prep.run_pipeline()"
   ]
  },
  {
   "cell_type": "code",
   "execution_count": 5,
   "id": "5b47fc2c-37a9-40eb-8746-09e91e1b405b",
   "metadata": {},
   "outputs": [],
   "source": [
    "report = reporting.ResultReporter(result)\n",
    "report.export_results()"
   ]
  }
 ],
 "metadata": {
  "kernelspec": {
   "display_name": "Python (npr)",
   "language": "python",
   "name": "pyenv-3.11.9"
  },
  "language_info": {
   "codemirror_mode": {
    "name": "ipython",
    "version": 3
   },
   "file_extension": ".py",
   "mimetype": "text/x-python",
   "name": "python",
   "nbconvert_exporter": "python",
   "pygments_lexer": "ipython3",
   "version": "3.11.9"
  }
 },
 "nbformat": 4,
 "nbformat_minor": 5
}
